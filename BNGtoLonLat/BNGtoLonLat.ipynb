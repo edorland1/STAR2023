{
 "cells": [
  {
   "cell_type": "markdown",
   "id": "8bdda3c5",
   "metadata": {},
   "source": [
    "# British National Grid to Longitude and Lattitude\n",
    "\n",
    "### This code takes data that is in the format of the British National Grid (BNG) which cannot be understood by the heatmap code and changes it to lattitude and longitude, adding it as a seperate set of collums which can then be changed into a heatmap."
   ]
  },
  {
   "cell_type": "code",
   "execution_count": 11,
   "id": "07477f25-fb6a-4448-a0ad-6de7bc09845f",
   "metadata": {},
   "outputs": [],
   "source": [
    "import pandas as pd\n",
    "import pyproj\n",
    "\n",
    "# Define the coordinate reference systems\n",
    "in_crs_string = 'EPSG:27700'  # British National Grid\n",
    "out_crs_string = 'EPSG:4326'  # WGS84\n",
    "\n",
    "# Create the coordinate transformer\n",
    "bng = pyproj.CRS.from_string(in_crs_string)\n",
    "wgs84 = pyproj.CRS.from_string(out_crs_string)\n",
    "transformer = pyproj.Transformer.from_crs(bng, wgs84, always_xy=True)\n",
    "\n",
    "# Read the CSV file\n",
    "data = pd.read_csv('snowdata.csv')\n",
    "\n",
    "# Convert X and Y coordinates to longitude and latitude\n",
    "data['Longitude'], data['Latitude'] = transformer.transform(data['COORD_X'].values, data['COORD_Y'].values)\n",
    "\n",
    "# Save the updated data to a new CSV file\n",
    "data.to_csv('snowdatanew.csv', index=False)\n"
   ]
  },
  {
   "cell_type": "code",
   "execution_count": null,
   "id": "ed643d17-d9f5-4255-9845-2bbcff6fdfda",
   "metadata": {},
   "outputs": [],
   "source": []
  }
 ],
 "metadata": {
  "kernelspec": {
   "display_name": "heatmap",
   "language": "python",
   "name": "heatmap"
  },
  "language_info": {
   "codemirror_mode": {
    "name": "ipython",
    "version": 3
   },
   "file_extension": ".py",
   "mimetype": "text/x-python",
   "name": "python",
   "nbconvert_exporter": "python",
   "pygments_lexer": "ipython3",
   "version": "3.9.16"
  }
 },
 "nbformat": 4,
 "nbformat_minor": 5
}
